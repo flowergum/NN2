{
  "nbformat": 4,
  "nbformat_minor": 0,
  "metadata": {
    "colab": {
      "name": "Untitled2.ipynb",
      "provenance": [],
      "authorship_tag": "ABX9TyPugTFUM9Tj5KYDJgwXMKyC",
      "include_colab_link": true
    },
    "kernelspec": {
      "name": "python3",
      "display_name": "Python 3"
    }
  },
  "cells": [
    {
      "cell_type": "markdown",
      "metadata": {
        "id": "view-in-github",
        "colab_type": "text"
      },
      "source": [
        "<a href=\"https://colab.research.google.com/github/flowergum/NN2/blob/task_3/Untitled2.ipynb\" target=\"_parent\"><img src=\"https://colab.research.google.com/assets/colab-badge.svg\" alt=\"Open In Colab\"/></a>"
      ]
    },
    {
      "cell_type": "code",
      "metadata": {
        "id": "QGIyjLMC-EGr"
      },
      "source": [
        "import tensorflow as tf\n",
        "import matplotlib.pyplot as plt\n",
        "import numpy as np"
      ],
      "execution_count": 1,
      "outputs": []
    },
    {
      "cell_type": "code",
      "metadata": {
        "id": "jdPclLR-_Qny"
      },
      "source": [
        "mnist = tf.keras.datasets.mnist\n",
        "(x_train, y_train),(x_test, y_test) = mnist.load_data()\n",
        "x_train, x_test = x_train/255., x_test/255."
      ],
      "execution_count": 2,
      "outputs": []
    },
    {
      "cell_type": "code",
      "metadata": {
        "id": "Cl0F1WtaFzEX"
      },
      "source": [
        "label_train = y_train.reshape(60000, -1)\n",
        "x_train1 = x_train.reshape((60000,784))\n",
        "train = np.empty((60000,785))\n",
        "for i in range(60000):\n",
        "    train[i] = np.hstack((x_train1[i], label_train[i]))\n",
        "\n",
        "label_test = y_train.reshape(60000, -1)\n",
        "x_test1 = x_test.reshape((10000,784))\n",
        "test = np.empty((10000, 785))\n",
        "for i in range(10000):\n",
        "    test[i] = np.hstack((x_test1[i], label_test[i]))\n",
        "xy_train = train\n",
        "xy_test = test"
      ],
      "execution_count": 3,
      "outputs": []
    },
    {
      "cell_type": "code",
      "metadata": {
        "id": "5CtBd6cO_XQA"
      },
      "source": [
        "def display_digit(num, x, y, vector = None):\n",
        "    label = y[num]\n",
        "    image = x[num]\n",
        "    if vector is None:\n",
        "        plt.title('Example: {}  Label: {}'.format(num, label))\n",
        "        plt.imshow(image, cmap=plt.get_cmap('gray_r'))\n",
        "    else:\n",
        "        plt.figure(figsize=(6,3))\n",
        "        plt.subplot(1,2,1)\n",
        "        plt.title('Real label: {}'.format(label))\n",
        "        plt.imshow(image, cmap=plt.get_cmap('gray_r'))\n",
        "        plt.subplot(1,2,2)\n",
        "        thisplot = plt.bar(range(10), vector, color=\"#777777\")\n",
        "        plt.ylim([0, 1]) \n",
        "        plt.xticks([])\n",
        "        plt.yticks([])\n",
        "        predicted_label = np.argmax(vector)\n",
        "        thisplot[predicted_label].set_color('red')\n",
        "        plt.title('Predicted label: {}'.format(predicted_label))\n",
        "    plt.show()"
      ],
      "execution_count": 4,
      "outputs": []
    },
    {
      "cell_type": "code",
      "metadata": {
        "id": "i-uFXw6oLexU",
        "outputId": "6e686aae-5a6d-4e54-88e7-268664796d36",
        "colab": {
          "base_uri": "https://localhost:8080/",
          "height": 1000
        }
      },
      "source": [
        "model = tf.keras.models.Sequential([\n",
        "  tf.keras.layers.Flatten(input_shape=(28, 28)),\n",
        "  tf.keras.layers.Dense(100, activation=tf.nn.relu),\n",
        "  tf.keras.layers.Dropout(0.2),\n",
        "  tf.keras.layers.Dense(10, activation=tf.nn.softmax)\n",
        "])\n",
        "model.compile(optimizer=tf.keras.optimizers.Adam(learning_rate=0.005),\n",
        "              loss=tf.keras.losses.sparse_categorical_crossentropy,\n",
        "              metrics=['accuracy'])\n",
        "history = model.fit(x_train, y_train, epochs=50, validation_data=(x_test, y_test))"
      ],
      "execution_count": 5,
      "outputs": [
        {
          "output_type": "stream",
          "text": [
            "Epoch 1/50\n",
            "1875/1875 [==============================] - 4s 2ms/step - loss: 0.2664 - accuracy: 0.9192 - val_loss: 0.1311 - val_accuracy: 0.9607\n",
            "Epoch 2/50\n",
            "1875/1875 [==============================] - 4s 2ms/step - loss: 0.1648 - accuracy: 0.9498 - val_loss: 0.1218 - val_accuracy: 0.9654\n",
            "Epoch 3/50\n",
            "1875/1875 [==============================] - 3s 2ms/step - loss: 0.1477 - accuracy: 0.9563 - val_loss: 0.1172 - val_accuracy: 0.9679\n",
            "Epoch 4/50\n",
            "1875/1875 [==============================] - 4s 2ms/step - loss: 0.1345 - accuracy: 0.9604 - val_loss: 0.1193 - val_accuracy: 0.9666\n",
            "Epoch 5/50\n",
            "1875/1875 [==============================] - 3s 2ms/step - loss: 0.1271 - accuracy: 0.9624 - val_loss: 0.1231 - val_accuracy: 0.9696\n",
            "Epoch 6/50\n",
            "1875/1875 [==============================] - 4s 2ms/step - loss: 0.1197 - accuracy: 0.9644 - val_loss: 0.1192 - val_accuracy: 0.9697\n",
            "Epoch 7/50\n",
            "1875/1875 [==============================] - 4s 2ms/step - loss: 0.1120 - accuracy: 0.9665 - val_loss: 0.1173 - val_accuracy: 0.9701\n",
            "Epoch 8/50\n",
            "1875/1875 [==============================] - 4s 2ms/step - loss: 0.1097 - accuracy: 0.9669 - val_loss: 0.1250 - val_accuracy: 0.9703\n",
            "Epoch 9/50\n",
            "1875/1875 [==============================] - 4s 2ms/step - loss: 0.1072 - accuracy: 0.9686 - val_loss: 0.1388 - val_accuracy: 0.9728\n",
            "Epoch 10/50\n",
            "1875/1875 [==============================] - 3s 2ms/step - loss: 0.1008 - accuracy: 0.9707 - val_loss: 0.1313 - val_accuracy: 0.9705\n",
            "Epoch 11/50\n",
            "1875/1875 [==============================] - 4s 2ms/step - loss: 0.0998 - accuracy: 0.9710 - val_loss: 0.1294 - val_accuracy: 0.9702\n",
            "Epoch 12/50\n",
            "1875/1875 [==============================] - 4s 2ms/step - loss: 0.0952 - accuracy: 0.9723 - val_loss: 0.1452 - val_accuracy: 0.9700\n",
            "Epoch 13/50\n",
            "1875/1875 [==============================] - 4s 2ms/step - loss: 0.0983 - accuracy: 0.9715 - val_loss: 0.1329 - val_accuracy: 0.9707\n",
            "Epoch 14/50\n",
            "1875/1875 [==============================] - 4s 2ms/step - loss: 0.0887 - accuracy: 0.9739 - val_loss: 0.1438 - val_accuracy: 0.9710\n",
            "Epoch 15/50\n",
            "1875/1875 [==============================] - 4s 2ms/step - loss: 0.0914 - accuracy: 0.9734 - val_loss: 0.1490 - val_accuracy: 0.9745\n",
            "Epoch 16/50\n",
            "1875/1875 [==============================] - 4s 2ms/step - loss: 0.0920 - accuracy: 0.9741 - val_loss: 0.1609 - val_accuracy: 0.9721\n",
            "Epoch 17/50\n",
            "1875/1875 [==============================] - 4s 2ms/step - loss: 0.0885 - accuracy: 0.9748 - val_loss: 0.1395 - val_accuracy: 0.9751\n",
            "Epoch 18/50\n",
            "1875/1875 [==============================] - 4s 2ms/step - loss: 0.0892 - accuracy: 0.9747 - val_loss: 0.1567 - val_accuracy: 0.9730\n",
            "Epoch 19/50\n",
            "1875/1875 [==============================] - 4s 2ms/step - loss: 0.0868 - accuracy: 0.9760 - val_loss: 0.1431 - val_accuracy: 0.9753\n",
            "Epoch 20/50\n",
            "1875/1875 [==============================] - 4s 2ms/step - loss: 0.0845 - accuracy: 0.9758 - val_loss: 0.1593 - val_accuracy: 0.9717\n",
            "Epoch 21/50\n",
            "1875/1875 [==============================] - 4s 2ms/step - loss: 0.0843 - accuracy: 0.9770 - val_loss: 0.1595 - val_accuracy: 0.9716\n",
            "Epoch 22/50\n",
            "1875/1875 [==============================] - 4s 2ms/step - loss: 0.0812 - accuracy: 0.9770 - val_loss: 0.1821 - val_accuracy: 0.9731\n",
            "Epoch 23/50\n",
            "1875/1875 [==============================] - 3s 2ms/step - loss: 0.0848 - accuracy: 0.9769 - val_loss: 0.1748 - val_accuracy: 0.9719\n",
            "Epoch 24/50\n",
            "1875/1875 [==============================] - 4s 2ms/step - loss: 0.0827 - accuracy: 0.9778 - val_loss: 0.1882 - val_accuracy: 0.9725\n",
            "Epoch 25/50\n",
            "1875/1875 [==============================] - 4s 2ms/step - loss: 0.0788 - accuracy: 0.9786 - val_loss: 0.1842 - val_accuracy: 0.9718\n",
            "Epoch 26/50\n",
            "1875/1875 [==============================] - 3s 2ms/step - loss: 0.0790 - accuracy: 0.9780 - val_loss: 0.1874 - val_accuracy: 0.9726\n",
            "Epoch 27/50\n",
            "1875/1875 [==============================] - 3s 2ms/step - loss: 0.0759 - accuracy: 0.9794 - val_loss: 0.1950 - val_accuracy: 0.9708\n",
            "Epoch 28/50\n",
            "1875/1875 [==============================] - 3s 2ms/step - loss: 0.0774 - accuracy: 0.9793 - val_loss: 0.1766 - val_accuracy: 0.9742\n",
            "Epoch 29/50\n",
            "1875/1875 [==============================] - 4s 2ms/step - loss: 0.0762 - accuracy: 0.9793 - val_loss: 0.1868 - val_accuracy: 0.9725\n",
            "Epoch 30/50\n",
            "1875/1875 [==============================] - 4s 2ms/step - loss: 0.0746 - accuracy: 0.9798 - val_loss: 0.2100 - val_accuracy: 0.9721\n",
            "Epoch 31/50\n",
            "1875/1875 [==============================] - 4s 2ms/step - loss: 0.0754 - accuracy: 0.9800 - val_loss: 0.2126 - val_accuracy: 0.9752\n",
            "Epoch 32/50\n",
            "1875/1875 [==============================] - 4s 2ms/step - loss: 0.0734 - accuracy: 0.9803 - val_loss: 0.2042 - val_accuracy: 0.9734\n",
            "Epoch 33/50\n",
            "1875/1875 [==============================] - 4s 2ms/step - loss: 0.0776 - accuracy: 0.9802 - val_loss: 0.2196 - val_accuracy: 0.9703\n",
            "Epoch 34/50\n",
            "1875/1875 [==============================] - 4s 2ms/step - loss: 0.0776 - accuracy: 0.9798 - val_loss: 0.2183 - val_accuracy: 0.9717\n",
            "Epoch 35/50\n",
            "1875/1875 [==============================] - 4s 2ms/step - loss: 0.0683 - accuracy: 0.9816 - val_loss: 0.2172 - val_accuracy: 0.9735\n",
            "Epoch 36/50\n",
            "1875/1875 [==============================] - 4s 2ms/step - loss: 0.0746 - accuracy: 0.9803 - val_loss: 0.2212 - val_accuracy: 0.9716\n",
            "Epoch 37/50\n",
            "1875/1875 [==============================] - 4s 2ms/step - loss: 0.0724 - accuracy: 0.9806 - val_loss: 0.2183 - val_accuracy: 0.9736\n",
            "Epoch 38/50\n",
            "1875/1875 [==============================] - 4s 2ms/step - loss: 0.0719 - accuracy: 0.9813 - val_loss: 0.2634 - val_accuracy: 0.9688\n",
            "Epoch 39/50\n",
            "1875/1875 [==============================] - 4s 2ms/step - loss: 0.0680 - accuracy: 0.9823 - val_loss: 0.2061 - val_accuracy: 0.9732\n",
            "Epoch 40/50\n",
            "1875/1875 [==============================] - 4s 2ms/step - loss: 0.0675 - accuracy: 0.9816 - val_loss: 0.2195 - val_accuracy: 0.9724\n",
            "Epoch 41/50\n",
            "1875/1875 [==============================] - 4s 2ms/step - loss: 0.0700 - accuracy: 0.9820 - val_loss: 0.2204 - val_accuracy: 0.9753\n",
            "Epoch 42/50\n",
            "1875/1875 [==============================] - 4s 2ms/step - loss: 0.0755 - accuracy: 0.9817 - val_loss: 0.2253 - val_accuracy: 0.9717\n",
            "Epoch 43/50\n",
            "1875/1875 [==============================] - 4s 2ms/step - loss: 0.0654 - accuracy: 0.9833 - val_loss: 0.2223 - val_accuracy: 0.9749\n",
            "Epoch 44/50\n",
            "1875/1875 [==============================] - 4s 2ms/step - loss: 0.0688 - accuracy: 0.9823 - val_loss: 0.2300 - val_accuracy: 0.9739\n",
            "Epoch 45/50\n",
            "1875/1875 [==============================] - 4s 2ms/step - loss: 0.0689 - accuracy: 0.9832 - val_loss: 0.2388 - val_accuracy: 0.9709\n",
            "Epoch 46/50\n",
            "1875/1875 [==============================] - 4s 2ms/step - loss: 0.0675 - accuracy: 0.9825 - val_loss: 0.2084 - val_accuracy: 0.9752\n",
            "Epoch 47/50\n",
            "1875/1875 [==============================] - 4s 2ms/step - loss: 0.0667 - accuracy: 0.9833 - val_loss: 0.2296 - val_accuracy: 0.9740\n",
            "Epoch 48/50\n",
            "1875/1875 [==============================] - 4s 2ms/step - loss: 0.0733 - accuracy: 0.9819 - val_loss: 0.2302 - val_accuracy: 0.9732\n",
            "Epoch 49/50\n",
            "1875/1875 [==============================] - 4s 2ms/step - loss: 0.0733 - accuracy: 0.9824 - val_loss: 0.2561 - val_accuracy: 0.9708\n",
            "Epoch 50/50\n",
            "1875/1875 [==============================] - 4s 2ms/step - loss: 0.0681 - accuracy: 0.9827 - val_loss: 0.2341 - val_accuracy: 0.9745\n"
          ],
          "name": "stdout"
        }
      ]
    },
    {
      "cell_type": "code",
      "metadata": {
        "id": "-ccQPXHN_dI1",
        "outputId": "afd381c1-5470-43e2-ea75-b9aca6f192bf",
        "colab": {
          "base_uri": "https://localhost:8080/",
          "height": 1000
        }
      },
      "source": [
        "model1 = tf.keras.models.Sequential([\n",
        "  tf.keras.layers.Flatten(input_shape=(785,)),\n",
        "  tf.keras.layers.Dense(100, activation=tf.nn.relu),\n",
        "  tf.keras.layers.Dropout(0.2),\n",
        "  tf.keras.layers.Dense(10, activation=tf.nn.softmax)\n",
        "])\n",
        "model1.compile(optimizer=tf.keras.optimizers.Adam(learning_rate=0.005),\n",
        "              loss=tf.keras.losses.sparse_categorical_crossentropy,\n",
        "              metrics=['accuracy'])\n",
        "history1 = model1.fit(xy_train, y_train, epochs=50, validation_data=(xy_test, y_test))"
      ],
      "execution_count": 6,
      "outputs": [
        {
          "output_type": "stream",
          "text": [
            "Epoch 1/50\n",
            "1875/1875 [==============================] - 4s 2ms/step - loss: 0.1648 - accuracy: 0.9479 - val_loss: 5.3575 - val_accuracy: 0.5879\n",
            "Epoch 2/50\n",
            "1875/1875 [==============================] - 4s 2ms/step - loss: 0.0895 - accuracy: 0.9716 - val_loss: 8.0232 - val_accuracy: 0.5713\n",
            "Epoch 3/50\n",
            "1875/1875 [==============================] - 4s 2ms/step - loss: 0.0727 - accuracy: 0.9775 - val_loss: 12.4450 - val_accuracy: 0.5367\n",
            "Epoch 4/50\n",
            "1875/1875 [==============================] - 4s 2ms/step - loss: 0.0692 - accuracy: 0.9786 - val_loss: 15.3239 - val_accuracy: 0.5459\n",
            "Epoch 5/50\n",
            "1875/1875 [==============================] - 4s 2ms/step - loss: 0.0615 - accuracy: 0.9813 - val_loss: 17.1088 - val_accuracy: 0.5429\n",
            "Epoch 6/50\n",
            "1875/1875 [==============================] - 4s 2ms/step - loss: 0.0602 - accuracy: 0.9824 - val_loss: 20.8056 - val_accuracy: 0.5260\n",
            "Epoch 7/50\n",
            "1875/1875 [==============================] - 4s 2ms/step - loss: 0.0568 - accuracy: 0.9839 - val_loss: 23.9753 - val_accuracy: 0.5253\n",
            "Epoch 8/50\n",
            "1875/1875 [==============================] - 4s 2ms/step - loss: 0.0561 - accuracy: 0.9840 - val_loss: 28.8994 - val_accuracy: 0.5068\n",
            "Epoch 9/50\n",
            "1875/1875 [==============================] - 4s 2ms/step - loss: 0.0475 - accuracy: 0.9865 - val_loss: 26.7143 - val_accuracy: 0.5182\n",
            "Epoch 10/50\n",
            "1875/1875 [==============================] - 4s 2ms/step - loss: 0.0567 - accuracy: 0.9858 - val_loss: 33.4769 - val_accuracy: 0.5019\n",
            "Epoch 11/50\n",
            "1875/1875 [==============================] - 4s 2ms/step - loss: 0.0480 - accuracy: 0.9872 - val_loss: 31.9020 - val_accuracy: 0.5172\n",
            "Epoch 12/50\n",
            "1875/1875 [==============================] - 4s 2ms/step - loss: 0.0498 - accuracy: 0.9869 - val_loss: 30.7607 - val_accuracy: 0.5151\n",
            "Epoch 13/50\n",
            "1875/1875 [==============================] - 4s 2ms/step - loss: 0.0522 - accuracy: 0.9876 - val_loss: 34.3835 - val_accuracy: 0.5115\n",
            "Epoch 14/50\n",
            "1875/1875 [==============================] - 4s 2ms/step - loss: 0.0440 - accuracy: 0.9888 - val_loss: 36.1669 - val_accuracy: 0.5002\n",
            "Epoch 15/50\n",
            "1875/1875 [==============================] - 4s 2ms/step - loss: 0.0455 - accuracy: 0.9879 - val_loss: 34.4417 - val_accuracy: 0.5270\n",
            "Epoch 16/50\n",
            "1875/1875 [==============================] - 4s 2ms/step - loss: 0.0504 - accuracy: 0.9877 - val_loss: 41.4057 - val_accuracy: 0.4956\n",
            "Epoch 17/50\n",
            "1875/1875 [==============================] - 4s 2ms/step - loss: 0.0442 - accuracy: 0.9891 - val_loss: 40.2507 - val_accuracy: 0.5174\n",
            "Epoch 18/50\n",
            "1875/1875 [==============================] - 4s 2ms/step - loss: 0.0497 - accuracy: 0.9894 - val_loss: 38.8541 - val_accuracy: 0.5270\n",
            "Epoch 19/50\n",
            "1875/1875 [==============================] - 4s 2ms/step - loss: 0.0421 - accuracy: 0.9896 - val_loss: 37.5514 - val_accuracy: 0.5191\n",
            "Epoch 20/50\n",
            "1875/1875 [==============================] - 4s 2ms/step - loss: 0.0416 - accuracy: 0.9894 - val_loss: 43.8143 - val_accuracy: 0.5115\n",
            "Epoch 21/50\n",
            "1875/1875 [==============================] - 4s 2ms/step - loss: 0.0457 - accuracy: 0.9894 - val_loss: 46.4580 - val_accuracy: 0.5162\n",
            "Epoch 22/50\n",
            "1875/1875 [==============================] - 4s 2ms/step - loss: 0.0387 - accuracy: 0.9911 - val_loss: 48.0808 - val_accuracy: 0.5119\n",
            "Epoch 23/50\n",
            "1875/1875 [==============================] - 4s 2ms/step - loss: 0.0433 - accuracy: 0.9900 - val_loss: 46.2010 - val_accuracy: 0.5166\n",
            "Epoch 24/50\n",
            "1875/1875 [==============================] - 4s 2ms/step - loss: 0.0456 - accuracy: 0.9904 - val_loss: 56.9493 - val_accuracy: 0.5020\n",
            "Epoch 25/50\n",
            "1875/1875 [==============================] - 4s 2ms/step - loss: 0.0397 - accuracy: 0.9916 - val_loss: 52.5040 - val_accuracy: 0.5109\n",
            "Epoch 26/50\n",
            "1875/1875 [==============================] - 4s 2ms/step - loss: 0.0371 - accuracy: 0.9914 - val_loss: 59.1368 - val_accuracy: 0.5058\n",
            "Epoch 27/50\n",
            "1875/1875 [==============================] - 4s 2ms/step - loss: 0.0445 - accuracy: 0.9906 - val_loss: 57.6207 - val_accuracy: 0.4989\n",
            "Epoch 28/50\n",
            "1875/1875 [==============================] - 4s 2ms/step - loss: 0.0369 - accuracy: 0.9916 - val_loss: 57.8479 - val_accuracy: 0.4959\n",
            "Epoch 29/50\n",
            "1875/1875 [==============================] - 4s 2ms/step - loss: 0.0407 - accuracy: 0.9915 - val_loss: 55.4116 - val_accuracy: 0.5044\n",
            "Epoch 30/50\n",
            "1875/1875 [==============================] - 4s 2ms/step - loss: 0.0436 - accuracy: 0.9912 - val_loss: 53.5171 - val_accuracy: 0.5217\n",
            "Epoch 31/50\n",
            "1875/1875 [==============================] - 4s 2ms/step - loss: 0.0407 - accuracy: 0.9922 - val_loss: 64.5021 - val_accuracy: 0.5102\n",
            "Epoch 32/50\n",
            "1875/1875 [==============================] - 4s 2ms/step - loss: 0.0392 - accuracy: 0.9916 - val_loss: 61.0554 - val_accuracy: 0.4904\n",
            "Epoch 33/50\n",
            "1875/1875 [==============================] - 4s 2ms/step - loss: 0.0343 - accuracy: 0.9926 - val_loss: 63.2672 - val_accuracy: 0.5048\n",
            "Epoch 34/50\n",
            "1875/1875 [==============================] - 4s 2ms/step - loss: 0.0353 - accuracy: 0.9919 - val_loss: 59.6924 - val_accuracy: 0.5025\n",
            "Epoch 35/50\n",
            "1875/1875 [==============================] - 4s 2ms/step - loss: 0.0398 - accuracy: 0.9917 - val_loss: 62.1293 - val_accuracy: 0.5050\n",
            "Epoch 36/50\n",
            "1875/1875 [==============================] - 4s 2ms/step - loss: 0.0357 - accuracy: 0.9930 - val_loss: 60.8273 - val_accuracy: 0.5166\n",
            "Epoch 37/50\n",
            "1875/1875 [==============================] - 4s 2ms/step - loss: 0.0404 - accuracy: 0.9921 - val_loss: 70.3003 - val_accuracy: 0.4938\n",
            "Epoch 38/50\n",
            "1875/1875 [==============================] - 4s 2ms/step - loss: 0.0388 - accuracy: 0.9926 - val_loss: 61.4054 - val_accuracy: 0.5201\n",
            "Epoch 39/50\n",
            "1875/1875 [==============================] - 4s 2ms/step - loss: 0.0371 - accuracy: 0.9924 - val_loss: 64.3975 - val_accuracy: 0.5087\n",
            "Epoch 40/50\n",
            "1875/1875 [==============================] - 4s 2ms/step - loss: 0.0392 - accuracy: 0.9920 - val_loss: 75.4091 - val_accuracy: 0.5084\n",
            "Epoch 41/50\n",
            "1875/1875 [==============================] - 4s 2ms/step - loss: 0.0327 - accuracy: 0.9933 - val_loss: 80.8646 - val_accuracy: 0.4949\n",
            "Epoch 42/50\n",
            "1875/1875 [==============================] - 4s 2ms/step - loss: 0.0364 - accuracy: 0.9928 - val_loss: 78.8718 - val_accuracy: 0.4909\n",
            "Epoch 43/50\n",
            "1875/1875 [==============================] - 4s 2ms/step - loss: 0.0333 - accuracy: 0.9932 - val_loss: 76.2213 - val_accuracy: 0.4924\n",
            "Epoch 44/50\n",
            "1875/1875 [==============================] - 4s 2ms/step - loss: 0.0368 - accuracy: 0.9932 - val_loss: 79.9626 - val_accuracy: 0.4948\n",
            "Epoch 45/50\n",
            "1875/1875 [==============================] - 4s 2ms/step - loss: 0.0351 - accuracy: 0.9935 - val_loss: 82.4681 - val_accuracy: 0.4982\n",
            "Epoch 46/50\n",
            "1875/1875 [==============================] - 4s 2ms/step - loss: 0.0396 - accuracy: 0.9936 - val_loss: 81.2101 - val_accuracy: 0.4918\n",
            "Epoch 47/50\n",
            "1875/1875 [==============================] - 4s 2ms/step - loss: 0.0344 - accuracy: 0.9937 - val_loss: 88.8585 - val_accuracy: 0.4885\n",
            "Epoch 48/50\n",
            "1875/1875 [==============================] - 5s 2ms/step - loss: 0.0410 - accuracy: 0.9926 - val_loss: 83.3362 - val_accuracy: 0.4832\n",
            "Epoch 49/50\n",
            "1875/1875 [==============================] - 4s 2ms/step - loss: 0.0384 - accuracy: 0.9932 - val_loss: 91.7764 - val_accuracy: 0.4793\n",
            "Epoch 50/50\n",
            "1875/1875 [==============================] - 4s 2ms/step - loss: 0.0356 - accuracy: 0.9934 - val_loss: 86.4832 - val_accuracy: 0.4869\n"
          ],
          "name": "stdout"
        }
      ]
    },
    {
      "cell_type": "code",
      "metadata": {
        "id": "ONlKKMXr_jPO",
        "outputId": "5e374bb3-50ec-4f9b-9d09-28ed92c56ff2",
        "colab": {
          "base_uri": "https://localhost:8080/",
          "height": 606
        }
      },
      "source": [
        "plt.figure(figsize=(16,10))\n",
        "plt.xlabel('Epochs')\n",
        "plt.ylabel(\"Sparse_categorical_crossentropy\")\n",
        "val1 = plt.plot(history1.epoch, history1.history['accuracy'], label='Accuracy NEW')\n",
        "val = plt.plot(history.epoch, history.history[\"accuracy\"], label='Accuracy OLD')\n",
        "plt.legend()\n",
        "plt.xlim([0,max(history.epoch)])\n",
        "plt.show()"
      ],
      "execution_count": 7,
      "outputs": [
        {
          "output_type": "display_data",
          "data": {
            "image/png": "[encoded data removed]",
            "text/plain": [
              "<Figure size 1152x720 with 1 Axes>"
            ]
          },
          "metadata": {
            "tags": [],
            "needs_background": "light"
          }
        }
      ]
    }
  ]
}