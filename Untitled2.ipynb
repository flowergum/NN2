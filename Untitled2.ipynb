{
  "nbformat": 4,
  "nbformat_minor": 0,
  "metadata": {
    "colab": {
      "name": "Untitled2.ipynb",
      "provenance": [],
      "authorship_tag": "ABX9TyMVAotCboEk9mqRa9zoakSy",
      "include_colab_link": true
    },
    "kernelspec": {
      "name": "python3",
      "display_name": "Python 3"
    }
  },
  "cells": [
    {
      "cell_type": "markdown",
      "metadata": {
        "id": "view-in-github",
        "colab_type": "text"
      },
      "source": [
        "<a href=\"https://colab.research.google.com/github/flowergum/NN2/blob/task_3/Untitled2.ipynb\" target=\"_parent\"><img src=\"https://colab.research.google.com/assets/colab-badge.svg\" alt=\"Open In Colab\"/></a>"
      ]
    },
    {
      "cell_type": "code",
      "metadata": {
        "id": "QGIyjLMC-EGr"
      },
      "source": [
        "import tensorflow as tf\n",
        "import matplotlib.pyplot as plt\n",
        "import numpy as np"
      ],
      "execution_count": 1,
      "outputs": []
    },
    {
      "cell_type": "code",
      "metadata": {
        "id": "jdPclLR-_Qny"
      },
      "source": [
        "mnist = tf.keras.datasets.mnist\n",
        "(x_train, y_train),(x_test, y_test) = mnist.load_data()\n",
        "x_train, x_test = x_train/255., x_test/255."
      ],
      "execution_count": 2,
      "outputs": []
    },
    {
      "cell_type": "code",
      "metadata": {
        "id": "Cl0F1WtaFzEX"
      },
      "source": [
        "label_train = y_train.reshape(60000, -1)\n",
        "label_train = label_train/10.\n",
        "x_train1 = x_train.reshape((60000,784))\n",
        "train = np.empty((60000,785))\n",
        "for i in range(60000):\n",
        "    train[i] = np.hstack((x_train1[i], label_train[i]))\n",
        "\n",
        "label_test = y_test.reshape(10000, -1)\n",
        "label_test = label_test/10.\n",
        "x_test1 = x_test.reshape((10000,784))\n",
        "test = np.empty((10000, 785))\n",
        "for i in range(10000):\n",
        "    test[i] = np.hstack((x_test1[i], label_test[i]))\n",
        "xy_train = train\n",
        "xy_test = test"
      ],
      "execution_count": 3,
      "outputs": []
    },
    {
      "cell_type": "code",
      "metadata": {
        "id": "5CtBd6cO_XQA"
      },
      "source": [
        "def display_digit(num, x, y, vector = None):\n",
        "    label = y[num]\n",
        "    image = x[num]\n",
        "    if vector is None:\n",
        "        plt.title('Example: {}  Label: {}'.format(num, label))\n",
        "        plt.imshow(image, cmap=plt.get_cmap('gray_r'))\n",
        "    else:\n",
        "        plt.figure(figsize=(6,3))\n",
        "        plt.subplot(1,2,1)\n",
        "        plt.title('Real label: {}'.format(label))\n",
        "        plt.imshow(image, cmap=plt.get_cmap('gray_r'))\n",
        "        plt.subplot(1,2,2)\n",
        "        thisplot = plt.bar(range(10), vector, color=\"#777777\")\n",
        "        plt.ylim([0, 1]) \n",
        "        plt.xticks([])\n",
        "        plt.yticks([])\n",
        "        predicted_label = np.argmax(vector)\n",
        "        thisplot[predicted_label].set_color('red')\n",
        "        plt.title('Predicted label: {}'.format(predicted_label))\n",
        "    plt.show()"
      ],
      "execution_count": 4,
      "outputs": []
    },
    {
      "cell_type": "code",
      "metadata": {
        "id": "i-uFXw6oLexU",
        "outputId": "71333a5a-3aa5-44b4-cbca-c3895aafe374",
        "colab": {
          "base_uri": "https://localhost:8080/",
          "height": 1000
        }
      },
      "source": [
        "model = tf.keras.models.Sequential([\n",
        "  tf.keras.layers.Flatten(input_shape=(28, 28)),\n",
        "  tf.keras.layers.Dense(100, activation=tf.nn.relu),\n",
        "  tf.keras.layers.Dropout(0.2),\n",
        "  tf.keras.layers.Dense(10, activation=tf.nn.softmax)\n",
        "])\n",
        "model.compile(optimizer=tf.keras.optimizers.Adam(learning_rate=0.005),\n",
        "              loss=tf.keras.losses.sparse_categorical_crossentropy,\n",
        "              metrics=['accuracy'])\n",
        "history = model.fit(x_train, y_train, epochs=50, validation_data=(x_test, y_test))"
      ],
      "execution_count": 5,
      "outputs": [
        {
          "output_type": "stream",
          "text": [
            "Epoch 1/50\n",
            "1875/1875 [==============================] - 4s 2ms/step - loss: 0.2617 - accuracy: 0.9201 - val_loss: 0.1465 - val_accuracy: 0.9557\n",
            "Epoch 2/50\n",
            "1875/1875 [==============================] - 4s 2ms/step - loss: 0.1710 - accuracy: 0.9476 - val_loss: 0.1157 - val_accuracy: 0.9669\n",
            "Epoch 3/50\n",
            "1875/1875 [==============================] - 4s 2ms/step - loss: 0.1445 - accuracy: 0.9570 - val_loss: 0.1117 - val_accuracy: 0.9690\n",
            "Epoch 4/50\n",
            "1875/1875 [==============================] - 4s 2ms/step - loss: 0.1338 - accuracy: 0.9591 - val_loss: 0.1027 - val_accuracy: 0.9700\n",
            "Epoch 5/50\n",
            "1875/1875 [==============================] - 3s 2ms/step - loss: 0.1251 - accuracy: 0.9632 - val_loss: 0.1101 - val_accuracy: 0.9705\n",
            "Epoch 6/50\n",
            "1875/1875 [==============================] - 3s 2ms/step - loss: 0.1178 - accuracy: 0.9644 - val_loss: 0.1034 - val_accuracy: 0.9714\n",
            "Epoch 7/50\n",
            "1875/1875 [==============================] - 3s 2ms/step - loss: 0.1140 - accuracy: 0.9660 - val_loss: 0.1163 - val_accuracy: 0.9715\n",
            "Epoch 8/50\n",
            "1875/1875 [==============================] - 3s 2ms/step - loss: 0.1036 - accuracy: 0.9689 - val_loss: 0.1363 - val_accuracy: 0.9708\n",
            "Epoch 9/50\n",
            "1875/1875 [==============================] - 3s 2ms/step - loss: 0.1026 - accuracy: 0.9696 - val_loss: 0.1186 - val_accuracy: 0.9760\n",
            "Epoch 10/50\n",
            "1875/1875 [==============================] - 3s 2ms/step - loss: 0.1004 - accuracy: 0.9701 - val_loss: 0.1355 - val_accuracy: 0.9721\n",
            "Epoch 11/50\n",
            "1875/1875 [==============================] - 4s 2ms/step - loss: 0.0987 - accuracy: 0.9713 - val_loss: 0.1343 - val_accuracy: 0.9746\n",
            "Epoch 12/50\n",
            "1875/1875 [==============================] - 3s 2ms/step - loss: 0.0971 - accuracy: 0.9715 - val_loss: 0.1284 - val_accuracy: 0.9731\n",
            "Epoch 13/50\n",
            "1875/1875 [==============================] - 4s 2ms/step - loss: 0.0956 - accuracy: 0.9723 - val_loss: 0.1427 - val_accuracy: 0.9723\n",
            "Epoch 14/50\n",
            "1875/1875 [==============================] - 3s 2ms/step - loss: 0.0932 - accuracy: 0.9727 - val_loss: 0.1328 - val_accuracy: 0.9749\n",
            "Epoch 15/50\n",
            "1875/1875 [==============================] - 3s 2ms/step - loss: 0.0902 - accuracy: 0.9735 - val_loss: 0.1214 - val_accuracy: 0.9763\n",
            "Epoch 16/50\n",
            "1875/1875 [==============================] - 4s 2ms/step - loss: 0.0877 - accuracy: 0.9750 - val_loss: 0.1641 - val_accuracy: 0.9724\n",
            "Epoch 17/50\n",
            "1875/1875 [==============================] - 4s 2ms/step - loss: 0.0886 - accuracy: 0.9749 - val_loss: 0.1563 - val_accuracy: 0.9741\n",
            "Epoch 18/50\n",
            "1875/1875 [==============================] - 4s 2ms/step - loss: 0.0895 - accuracy: 0.9747 - val_loss: 0.1485 - val_accuracy: 0.9755\n",
            "Epoch 19/50\n",
            "1875/1875 [==============================] - 3s 2ms/step - loss: 0.0858 - accuracy: 0.9754 - val_loss: 0.1560 - val_accuracy: 0.9739\n",
            "Epoch 20/50\n",
            "1875/1875 [==============================] - 4s 2ms/step - loss: 0.0842 - accuracy: 0.9761 - val_loss: 0.1648 - val_accuracy: 0.9747\n",
            "Epoch 21/50\n",
            "1875/1875 [==============================] - 4s 2ms/step - loss: 0.0866 - accuracy: 0.9753 - val_loss: 0.1637 - val_accuracy: 0.9752\n",
            "Epoch 22/50\n",
            "1875/1875 [==============================] - 4s 2ms/step - loss: 0.0818 - accuracy: 0.9767 - val_loss: 0.1682 - val_accuracy: 0.9733\n",
            "Epoch 23/50\n",
            "1875/1875 [==============================] - 4s 2ms/step - loss: 0.0783 - accuracy: 0.9781 - val_loss: 0.1730 - val_accuracy: 0.9722\n",
            "Epoch 24/50\n",
            "1875/1875 [==============================] - 3s 2ms/step - loss: 0.0840 - accuracy: 0.9766 - val_loss: 0.1805 - val_accuracy: 0.9764\n",
            "Epoch 25/50\n",
            "1875/1875 [==============================] - 3s 2ms/step - loss: 0.0796 - accuracy: 0.9783 - val_loss: 0.1860 - val_accuracy: 0.9743\n",
            "Epoch 26/50\n",
            "1875/1875 [==============================] - 3s 2ms/step - loss: 0.0837 - accuracy: 0.9771 - val_loss: 0.1886 - val_accuracy: 0.9748\n",
            "Epoch 27/50\n",
            "1875/1875 [==============================] - 3s 2ms/step - loss: 0.0792 - accuracy: 0.9790 - val_loss: 0.1745 - val_accuracy: 0.9747\n",
            "Epoch 28/50\n",
            "1875/1875 [==============================] - 3s 2ms/step - loss: 0.0746 - accuracy: 0.9801 - val_loss: 0.2038 - val_accuracy: 0.9752\n",
            "Epoch 29/50\n",
            "1875/1875 [==============================] - 3s 2ms/step - loss: 0.0776 - accuracy: 0.9791 - val_loss: 0.2023 - val_accuracy: 0.9720\n",
            "Epoch 30/50\n",
            "1875/1875 [==============================] - 3s 2ms/step - loss: 0.0749 - accuracy: 0.9805 - val_loss: 0.1796 - val_accuracy: 0.9756\n",
            "Epoch 31/50\n",
            "1875/1875 [==============================] - 3s 2ms/step - loss: 0.0743 - accuracy: 0.9804 - val_loss: 0.1846 - val_accuracy: 0.9741\n",
            "Epoch 32/50\n",
            "1875/1875 [==============================] - 3s 2ms/step - loss: 0.0754 - accuracy: 0.9804 - val_loss: 0.1937 - val_accuracy: 0.9747\n",
            "Epoch 33/50\n",
            "1875/1875 [==============================] - 3s 2ms/step - loss: 0.0734 - accuracy: 0.9801 - val_loss: 0.2130 - val_accuracy: 0.9748\n",
            "Epoch 34/50\n",
            "1875/1875 [==============================] - 3s 2ms/step - loss: 0.0765 - accuracy: 0.9802 - val_loss: 0.1991 - val_accuracy: 0.9739\n",
            "Epoch 35/50\n",
            "1875/1875 [==============================] - 3s 2ms/step - loss: 0.0687 - accuracy: 0.9814 - val_loss: 0.2106 - val_accuracy: 0.9743\n",
            "Epoch 36/50\n",
            "1875/1875 [==============================] - 4s 2ms/step - loss: 0.0751 - accuracy: 0.9802 - val_loss: 0.1831 - val_accuracy: 0.9736\n",
            "Epoch 37/50\n",
            "1875/1875 [==============================] - 4s 2ms/step - loss: 0.0780 - accuracy: 0.9794 - val_loss: 0.2027 - val_accuracy: 0.9745\n",
            "Epoch 38/50\n",
            "1875/1875 [==============================] - 4s 2ms/step - loss: 0.0636 - accuracy: 0.9827 - val_loss: 0.2059 - val_accuracy: 0.9751\n",
            "Epoch 39/50\n",
            "1875/1875 [==============================] - 4s 2ms/step - loss: 0.0667 - accuracy: 0.9822 - val_loss: 0.2284 - val_accuracy: 0.9722\n",
            "Epoch 40/50\n",
            "1875/1875 [==============================] - 4s 2ms/step - loss: 0.0757 - accuracy: 0.9812 - val_loss: 0.2012 - val_accuracy: 0.9755\n",
            "Epoch 41/50\n",
            "1875/1875 [==============================] - 4s 2ms/step - loss: 0.0702 - accuracy: 0.9818 - val_loss: 0.2205 - val_accuracy: 0.9752\n",
            "Epoch 42/50\n",
            "1875/1875 [==============================] - 4s 2ms/step - loss: 0.0698 - accuracy: 0.9819 - val_loss: 0.2192 - val_accuracy: 0.9747\n",
            "Epoch 43/50\n",
            "1875/1875 [==============================] - 4s 2ms/step - loss: 0.0725 - accuracy: 0.9814 - val_loss: 0.2066 - val_accuracy: 0.9756\n",
            "Epoch 44/50\n",
            "1875/1875 [==============================] - 4s 2ms/step - loss: 0.0726 - accuracy: 0.9815 - val_loss: 0.2382 - val_accuracy: 0.9745\n",
            "Epoch 45/50\n",
            "1875/1875 [==============================] - 4s 2ms/step - loss: 0.0710 - accuracy: 0.9816 - val_loss: 0.2190 - val_accuracy: 0.9748\n",
            "Epoch 46/50\n",
            "1875/1875 [==============================] - 4s 2ms/step - loss: 0.0658 - accuracy: 0.9827 - val_loss: 0.2368 - val_accuracy: 0.9753\n",
            "Epoch 47/50\n",
            "1875/1875 [==============================] - 4s 2ms/step - loss: 0.0749 - accuracy: 0.9816 - val_loss: 0.2215 - val_accuracy: 0.9752\n",
            "Epoch 48/50\n",
            "1875/1875 [==============================] - 3s 2ms/step - loss: 0.0734 - accuracy: 0.9816 - val_loss: 0.2423 - val_accuracy: 0.9731\n",
            "Epoch 49/50\n",
            "1875/1875 [==============================] - 4s 2ms/step - loss: 0.0688 - accuracy: 0.9829 - val_loss: 0.2294 - val_accuracy: 0.9743\n",
            "Epoch 50/50\n",
            "1875/1875 [==============================] - 4s 2ms/step - loss: 0.0667 - accuracy: 0.9832 - val_loss: 0.2499 - val_accuracy: 0.9713\n"
          ],
          "name": "stdout"
        }
      ]
    },
    {
      "cell_type": "code",
      "metadata": {
        "id": "-ccQPXHN_dI1",
        "outputId": "f7896d2b-d69d-4d1c-cb27-4b0442552a5e",
        "colab": {
          "base_uri": "https://localhost:8080/",
          "height": 1000
        }
      },
      "source": [
        "model1 = tf.keras.models.Sequential([\n",
        "  tf.keras.layers.Flatten(input_shape=(785,)),\n",
        "  tf.keras.layers.Dense(100, activation=tf.nn.relu),\n",
        "  tf.keras.layers.Dropout(0.2),\n",
        "  tf.keras.layers.Dense(10, activation=tf.nn.softmax)\n",
        "])\n",
        "model1.compile(optimizer=tf.keras.optimizers.Adam(learning_rate=0.005),\n",
        "              loss=tf.keras.losses.sparse_categorical_crossentropy,\n",
        "              metrics=['accuracy'])\n",
        "history1 = model1.fit(xy_train, y_train, epochs=50, validation_data=(xy_test, y_test))"
      ],
      "execution_count": 6,
      "outputs": [
        {
          "output_type": "stream",
          "text": [
            "Epoch 1/50\n",
            "1875/1875 [==============================] - 4s 2ms/step - loss: 0.2328 - accuracy: 0.9280 - val_loss: 0.0908 - val_accuracy: 0.9716\n",
            "Epoch 2/50\n",
            "1875/1875 [==============================] - 4s 2ms/step - loss: 0.1187 - accuracy: 0.9624 - val_loss: 0.0828 - val_accuracy: 0.9718\n",
            "Epoch 3/50\n",
            "1875/1875 [==============================] - 4s 2ms/step - loss: 0.0922 - accuracy: 0.9716 - val_loss: 0.0549 - val_accuracy: 0.9836\n",
            "Epoch 4/50\n",
            "1875/1875 [==============================] - 4s 2ms/step - loss: 0.0801 - accuracy: 0.9754 - val_loss: 0.0432 - val_accuracy: 0.9874\n",
            "Epoch 5/50\n",
            "1875/1875 [==============================] - 4s 2ms/step - loss: 0.0720 - accuracy: 0.9785 - val_loss: 0.0544 - val_accuracy: 0.9854\n",
            "Epoch 6/50\n",
            "1875/1875 [==============================] - 3s 2ms/step - loss: 0.0677 - accuracy: 0.9788 - val_loss: 0.0557 - val_accuracy: 0.9873\n",
            "Epoch 7/50\n",
            "1875/1875 [==============================] - 3s 2ms/step - loss: 0.0618 - accuracy: 0.9815 - val_loss: 0.0487 - val_accuracy: 0.9871\n",
            "Epoch 8/50\n",
            "1875/1875 [==============================] - 3s 2ms/step - loss: 0.0632 - accuracy: 0.9822 - val_loss: 0.0530 - val_accuracy: 0.9874\n",
            "Epoch 9/50\n",
            "1875/1875 [==============================] - 4s 2ms/step - loss: 0.0606 - accuracy: 0.9824 - val_loss: 0.0513 - val_accuracy: 0.9878\n",
            "Epoch 10/50\n",
            "1875/1875 [==============================] - 4s 2ms/step - loss: 0.0604 - accuracy: 0.9830 - val_loss: 0.0515 - val_accuracy: 0.9872\n",
            "Epoch 11/50\n",
            "1875/1875 [==============================] - 4s 2ms/step - loss: 0.0524 - accuracy: 0.9856 - val_loss: 0.0568 - val_accuracy: 0.9865\n",
            "Epoch 12/50\n",
            "1875/1875 [==============================] - 3s 2ms/step - loss: 0.0530 - accuracy: 0.9847 - val_loss: 0.0581 - val_accuracy: 0.9865\n",
            "Epoch 13/50\n",
            "1875/1875 [==============================] - 3s 2ms/step - loss: 0.0524 - accuracy: 0.9848 - val_loss: 0.0527 - val_accuracy: 0.9873\n",
            "Epoch 14/50\n",
            "1875/1875 [==============================] - 3s 2ms/step - loss: 0.0531 - accuracy: 0.9856 - val_loss: 0.0603 - val_accuracy: 0.9877\n",
            "Epoch 15/50\n",
            "1875/1875 [==============================] - 3s 2ms/step - loss: 0.0505 - accuracy: 0.9862 - val_loss: 0.0721 - val_accuracy: 0.9856\n",
            "Epoch 16/50\n",
            "1875/1875 [==============================] - 3s 2ms/step - loss: 0.0481 - accuracy: 0.9864 - val_loss: 0.0590 - val_accuracy: 0.9897\n",
            "Epoch 17/50\n",
            "1875/1875 [==============================] - 4s 2ms/step - loss: 0.0476 - accuracy: 0.9881 - val_loss: 0.0680 - val_accuracy: 0.9887\n",
            "Epoch 18/50\n",
            "1875/1875 [==============================] - 3s 2ms/step - loss: 0.0477 - accuracy: 0.9876 - val_loss: 0.0571 - val_accuracy: 0.9900\n",
            "Epoch 19/50\n",
            "1875/1875 [==============================] - 4s 2ms/step - loss: 0.0481 - accuracy: 0.9878 - val_loss: 0.0699 - val_accuracy: 0.9883\n",
            "Epoch 20/50\n",
            "1875/1875 [==============================] - 3s 2ms/step - loss: 0.0510 - accuracy: 0.9876 - val_loss: 0.0722 - val_accuracy: 0.9890\n",
            "Epoch 21/50\n",
            "1875/1875 [==============================] - 3s 2ms/step - loss: 0.0441 - accuracy: 0.9887 - val_loss: 0.0644 - val_accuracy: 0.9887\n",
            "Epoch 22/50\n",
            "1875/1875 [==============================] - 3s 2ms/step - loss: 0.0477 - accuracy: 0.9882 - val_loss: 0.0876 - val_accuracy: 0.9860\n",
            "Epoch 23/50\n",
            "1875/1875 [==============================] - 4s 2ms/step - loss: 0.0462 - accuracy: 0.9888 - val_loss: 0.0742 - val_accuracy: 0.9867\n",
            "Epoch 24/50\n",
            "1875/1875 [==============================] - 3s 2ms/step - loss: 0.0423 - accuracy: 0.9896 - val_loss: 0.0653 - val_accuracy: 0.9894\n",
            "Epoch 25/50\n",
            "1875/1875 [==============================] - 3s 2ms/step - loss: 0.0501 - accuracy: 0.9874 - val_loss: 0.0795 - val_accuracy: 0.9894\n",
            "Epoch 26/50\n",
            "1875/1875 [==============================] - 4s 2ms/step - loss: 0.0402 - accuracy: 0.9899 - val_loss: 0.0820 - val_accuracy: 0.9876\n",
            "Epoch 27/50\n",
            "1875/1875 [==============================] - 3s 2ms/step - loss: 0.0400 - accuracy: 0.9900 - val_loss: 0.0719 - val_accuracy: 0.9910\n",
            "Epoch 28/50\n",
            "1875/1875 [==============================] - 3s 2ms/step - loss: 0.0449 - accuracy: 0.9890 - val_loss: 0.0600 - val_accuracy: 0.9902\n",
            "Epoch 29/50\n",
            "1875/1875 [==============================] - 3s 2ms/step - loss: 0.0495 - accuracy: 0.9889 - val_loss: 0.0488 - val_accuracy: 0.9925\n",
            "Epoch 30/50\n",
            "1875/1875 [==============================] - 3s 2ms/step - loss: 0.0428 - accuracy: 0.9899 - val_loss: 0.0993 - val_accuracy: 0.9886\n",
            "Epoch 31/50\n",
            "1875/1875 [==============================] - 3s 2ms/step - loss: 0.0433 - accuracy: 0.9903 - val_loss: 0.0812 - val_accuracy: 0.9891\n",
            "Epoch 32/50\n",
            "1875/1875 [==============================] - 3s 2ms/step - loss: 0.0408 - accuracy: 0.9904 - val_loss: 0.0796 - val_accuracy: 0.9902\n",
            "Epoch 33/50\n",
            "1875/1875 [==============================] - 3s 2ms/step - loss: 0.0423 - accuracy: 0.9909 - val_loss: 0.1002 - val_accuracy: 0.9873\n",
            "Epoch 34/50\n",
            "1875/1875 [==============================] - 3s 2ms/step - loss: 0.0422 - accuracy: 0.9911 - val_loss: 0.0979 - val_accuracy: 0.9892\n",
            "Epoch 35/50\n",
            "1875/1875 [==============================] - 3s 2ms/step - loss: 0.0403 - accuracy: 0.9908 - val_loss: 0.0890 - val_accuracy: 0.9897\n",
            "Epoch 36/50\n",
            "1875/1875 [==============================] - 3s 2ms/step - loss: 0.0414 - accuracy: 0.9910 - val_loss: 0.1011 - val_accuracy: 0.9860\n",
            "Epoch 37/50\n",
            "1875/1875 [==============================] - 3s 2ms/step - loss: 0.0381 - accuracy: 0.9916 - val_loss: 0.0881 - val_accuracy: 0.9897\n",
            "Epoch 38/50\n",
            "1875/1875 [==============================] - 3s 2ms/step - loss: 0.0399 - accuracy: 0.9913 - val_loss: 0.1188 - val_accuracy: 0.9863\n",
            "Epoch 39/50\n",
            "1875/1875 [==============================] - 3s 2ms/step - loss: 0.0457 - accuracy: 0.9910 - val_loss: 0.0986 - val_accuracy: 0.9888\n",
            "Epoch 40/50\n",
            "1875/1875 [==============================] - 3s 2ms/step - loss: 0.0463 - accuracy: 0.9905 - val_loss: 0.0841 - val_accuracy: 0.9918\n",
            "Epoch 41/50\n",
            "1875/1875 [==============================] - 4s 2ms/step - loss: 0.0424 - accuracy: 0.9912 - val_loss: 0.0936 - val_accuracy: 0.9895\n",
            "Epoch 42/50\n",
            "1875/1875 [==============================] - 3s 2ms/step - loss: 0.0434 - accuracy: 0.9913 - val_loss: 0.0881 - val_accuracy: 0.9893\n",
            "Epoch 43/50\n",
            "1875/1875 [==============================] - 3s 2ms/step - loss: 0.0386 - accuracy: 0.9916 - val_loss: 0.0977 - val_accuracy: 0.9892\n",
            "Epoch 44/50\n",
            "1875/1875 [==============================] - 3s 2ms/step - loss: 0.0382 - accuracy: 0.9922 - val_loss: 0.1109 - val_accuracy: 0.9888\n",
            "Epoch 45/50\n",
            "1875/1875 [==============================] - 3s 2ms/step - loss: 0.0415 - accuracy: 0.9919 - val_loss: 0.1078 - val_accuracy: 0.9895\n",
            "Epoch 46/50\n",
            "1875/1875 [==============================] - 3s 2ms/step - loss: 0.0386 - accuracy: 0.9922 - val_loss: 0.1011 - val_accuracy: 0.9890\n",
            "Epoch 47/50\n",
            "1875/1875 [==============================] - 4s 2ms/step - loss: 0.0424 - accuracy: 0.9912 - val_loss: 0.1247 - val_accuracy: 0.9893\n",
            "Epoch 48/50\n",
            "1875/1875 [==============================] - 4s 2ms/step - loss: 0.0389 - accuracy: 0.9916 - val_loss: 0.0910 - val_accuracy: 0.9896\n",
            "Epoch 49/50\n",
            "1875/1875 [==============================] - 4s 2ms/step - loss: 0.0382 - accuracy: 0.9922 - val_loss: 0.1076 - val_accuracy: 0.9902\n",
            "Epoch 50/50\n",
            "1875/1875 [==============================] - 4s 2ms/step - loss: 0.0352 - accuracy: 0.9925 - val_loss: 0.1140 - val_accuracy: 0.9874\n"
          ],
          "name": "stdout"
        }
      ]
    },
    {
      "cell_type": "code",
      "metadata": {
        "id": "ONlKKMXr_jPO",
        "outputId": "964736db-5c6e-4df3-afa0-ef8cf333c57d",
        "colab": {
          "base_uri": "https://localhost:8080/",
          "height": 606
        }
      },
      "source": [
        "plt.figure(figsize=(16,10))\n",
        "plt.xlabel('Epochs')\n",
        "plt.ylabel(\"Sparse_categorical_crossentropy\")\n",
        "val1 = plt.plot(history1.epoch, history1.history['accuracy'], label='Accuracy NEW')\n",
        "val = plt.plot(history.epoch, history.history[\"accuracy\"], label='Accuracy OLD')\n",
        "plt.legend()\n",
        "plt.xlim([0,max(history.epoch)])\n",
        "plt.show()"
      ],
      "execution_count": 7,
      "outputs": [
        {
          "output_type": "display_data",
          "data": {
            "image/png": "[encoded data removed]",
            "text/plain": [
              "<Figure size 1152x720 with 1 Axes>"
            ]
          },
          "metadata": {
            "tags": [],
            "needs_background": "light"
          }
        }
      ]
    },
    {
      "cell_type": "code",
      "metadata": {
        "id": "jYnfCDospZPl",
        "outputId": "e23c27f2-3352-44a8-ca40-c594305f7935",
        "colab": {
          "base_uri": "https://localhost:8080/",
          "height": 85
        }
      },
      "source": [
        "loss, acc = model.evaluate(x_test, y_test)\n",
        "print(\"Loss = {}, accuracy = {}\".format(loss, acc))\n",
        "loss, acc = model.evaluate(x_train, y_train)\n",
        "print(\"Loss = {}, accuracy = {}\".format(loss, acc))"
      ],
      "execution_count": 8,
      "outputs": [
        {
          "output_type": "stream",
          "text": [
            "313/313 [==============================] - 0s 1ms/step - loss: 0.2499 - accuracy: 0.9713\n",
            "Loss = 0.24993464350700378, accuracy = 0.9713000059127808\n",
            "1875/1875 [==============================] - 3s 1ms/step - loss: 0.0288 - accuracy: 0.9912\n",
            "Loss = 0.028797011822462082, accuracy = 0.9911999702453613\n"
          ],
          "name": "stdout"
        }
      ]
    },
    {
      "cell_type": "code",
      "metadata": {
        "id": "I7RraKgzpkrf",
        "outputId": "3a2ceae1-00eb-4930-d396-51a291ec3115",
        "colab": {
          "base_uri": "https://localhost:8080/",
          "height": 85
        }
      },
      "source": [
        "loss, acc = model1.evaluate(xy_test, y_test)\n",
        "print(\"Loss = {}, accuracy = {}\".format(loss, acc))\n",
        "loss, acc = model1.evaluate(xy_train, y_train)\n",
        "print(\"Loss = {}, accuracy = {}\".format(loss, acc))"
      ],
      "execution_count": 9,
      "outputs": [
        {
          "output_type": "stream",
          "text": [
            "313/313 [==============================] - 0s 1ms/step - loss: 0.1140 - accuracy: 0.9874\n",
            "Loss = 0.11398275196552277, accuracy = 0.9873999953269958\n",
            "1875/1875 [==============================] - 3s 1ms/step - loss: 0.0114 - accuracy: 0.9972\n",
            "Loss = 0.011387309059500694, accuracy = 0.9971666932106018\n"
          ],
          "name": "stdout"
        }
      ]
    }
  ]
}